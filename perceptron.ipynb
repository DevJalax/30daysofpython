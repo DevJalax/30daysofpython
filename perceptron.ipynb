{
 "cells": [
  {
   "cell_type": "code",
   "execution_count": 4,
   "metadata": {},
   "outputs": [
    {
     "name": "stdout",
     "output_type": "stream",
     "text": [
      "Mean Accuracy: 0.857\n",
      "Config: {'max_iter': 10}\n",
      ">0.850 with: {'max_iter': 1}\n",
      ">0.857 with: {'max_iter': 10}\n",
      ">0.857 with: {'max_iter': 100}\n",
      ">0.857 with: {'max_iter': 1000}\n",
      ">0.857 with: {'max_iter': 10000}\n"
     ]
    }
   ],
   "source": [
    "from sklearn.datasets import make_classification\n",
    "from sklearn.model_selection import GridSearchCV\n",
    "from sklearn.model_selection import RepeatedStratifiedKFold\n",
    "from sklearn.linear_model import Perceptron\n",
    "\n",
    "# Dataset definition\n",
    "# make classification method generates random n-class classification problem\n",
    "#X = generated samples\n",
    "#y = integer label for class memberhip of each sample\n",
    "\n",
    "X,y = make_classification(n_samples=1000,n_features = 10, n_informative = 10 , n_redundant = 0 , random_state = 1)\n",
    "\n",
    "#model definition\n",
    "\n",
    "model = Perceptron(eta0=0.0001)\n",
    "\n",
    "#model evaluation method\n",
    "\n",
    "cv = RepeatedStratifiedKFold(n_splits = 10 , n_repeats = 3 , random_state = 1)\n",
    "\n",
    "#grid definition\n",
    "\n",
    "grid = dict()\n",
    "grid['max_iter'] = [1,10,100,1000,10000]\n",
    "\n",
    "#Search\n",
    "\n",
    "search = GridSearchCV(model,grid,scoring='accuracy',cv=cv,n_jobs=-1)\n",
    "results = search.fit(X,y)\n",
    "\n",
    "#Summary/ Results\n",
    "\n",
    "print('Mean Accuracy: %.3f' % results.best_score_)\n",
    "\n",
    "print('Config: %s' % results.best_params_)\n",
    "\n",
    "means = results.cv_results_['mean_test_score']\n",
    "\n",
    "params = results.cv_results_['params']\n",
    "\n",
    "for mean, param in zip(means, params):\n",
    "    print(\">%.3f with: %r\" % (mean, param))\n"
   ]
  },
  {
   "cell_type": "code",
   "execution_count": null,
   "metadata": {},
   "outputs": [],
   "source": []
  },
  {
   "cell_type": "code",
   "execution_count": null,
   "metadata": {},
   "outputs": [],
   "source": []
  }
 ],
 "metadata": {
  "kernelspec": {
   "display_name": "Python 3",
   "language": "python",
   "name": "python3"
  },
  "language_info": {
   "codemirror_mode": {
    "name": "ipython",
    "version": 3
   },
   "file_extension": ".py",
   "mimetype": "text/x-python",
   "name": "python",
   "nbconvert_exporter": "python",
   "pygments_lexer": "ipython3",
   "version": "3.8.5"
  }
 },
 "nbformat": 4,
 "nbformat_minor": 4
}
