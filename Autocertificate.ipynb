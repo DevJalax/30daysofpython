{
 "cells": [
  {
   "cell_type": "code",
   "execution_count": 6,
   "metadata": {},
   "outputs": [],
   "source": [
    "import pandas as pd\n",
    "from PIL import Image,ImageDraw,ImageFont\n",
    "data = pd.read_excel(r'C:\\\\Users\\\\JALAX\\\\Desktop\\\\Participants.xlsx')"
   ]
  },
  {
   "cell_type": "code",
   "execution_count": 7,
   "metadata": {},
   "outputs": [],
   "source": [
    "name_list = data[\"Name\"].tolist()"
   ]
  },
  {
   "cell_type": "code",
   "execution_count": 8,
   "metadata": {},
   "outputs": [],
   "source": [
    "mentor_list = data[\"PM\"].tolist()"
   ]
  },
  {
   "cell_type": "code",
   "execution_count": 9,
   "metadata": {},
   "outputs": [],
   "source": [
    "cert_list = data[\"C_no\"].tolist()"
   ]
  },
  {
   "cell_type": "code",
   "execution_count": 26,
   "metadata": {},
   "outputs": [],
   "source": [
    "for i in name_list:\n",
    "    im = Image.open(r'C:\\\\Users\\\\JALAX\\\\Desktop\\\\c6.jpg')\n",
    "    d = ImageDraw.Draw(im)\n",
    "    n_loc = (217,128)\n",
    "    cn_loc = (218,225)\n",
    "    c2_loc = (356,231)\n",
    "    s_loc = (126,304)\n",
    "    d_loc = (330,303)\n",
    "    if(im.mode=='RGBA'):\n",
    "        im = im.convert('RGB')\n",
    "    text_color = (0,0,0)\n",
    "    font = ImageFont.truetype(\"arial.ttf\",20)\n",
    "    d.text(n_loc,i,fill = text_color,font = font)\n",
    "    d.text(cn_loc,\"IOT\",fill = text_color,font = font)\n",
    "    d.text(c2_loc,\"3G tech park chennai\",fill = text_color,font = font)\n",
    "    d.text(s_loc,\"sundar\",fill = text_color,font = font)\n",
    "    d.text(d_loc,\"21/2/19\",fill = text_color,font = font)\n",
    "    im.save(\"certificate_\"+i+\".pdf\")"
   ]
  },
  {
   "cell_type": "code",
   "execution_count": null,
   "metadata": {},
   "outputs": [],
   "source": []
  },
  {
   "cell_type": "code",
   "execution_count": null,
   "metadata": {},
   "outputs": [],
   "source": []
  }
 ],
 "metadata": {
  "kernelspec": {
   "display_name": "Python 3",
   "language": "python",
   "name": "python3"
  },
  "language_info": {
   "codemirror_mode": {
    "name": "ipython",
    "version": 3
   },
   "file_extension": ".py",
   "mimetype": "text/x-python",
   "name": "python",
   "nbconvert_exporter": "python",
   "pygments_lexer": "ipython3",
   "version": "3.8.5"
  }
 },
 "nbformat": 4,
 "nbformat_minor": 4
}
